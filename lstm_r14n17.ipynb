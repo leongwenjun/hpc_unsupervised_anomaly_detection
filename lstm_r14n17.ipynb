{
 "cells": [
  {
   "cell_type": "code",
   "execution_count": 1,
   "metadata": {},
   "outputs": [
    {
     "name": "stderr",
     "output_type": "stream",
     "text": [
      "2023-08-18 15:45:14.288649: I tensorflow/core/util/port.cc:110] oneDNN custom operations are on. You may see slightly different numerical results due to floating-point round-off errors from different computation orders. To turn them off, set the environment variable `TF_ENABLE_ONEDNN_OPTS=0`.\n",
      "2023-08-18 15:45:14.291028: I tensorflow/tsl/cuda/cudart_stub.cc:28] Could not find cuda drivers on your machine, GPU will not be used.\n",
      "2023-08-18 15:45:14.339173: I tensorflow/tsl/cuda/cudart_stub.cc:28] Could not find cuda drivers on your machine, GPU will not be used.\n",
      "2023-08-18 15:45:14.340049: I tensorflow/core/platform/cpu_feature_guard.cc:182] This TensorFlow binary is optimized to use available CPU instructions in performance-critical operations.\n",
      "To enable the following instructions: AVX2 AVX512F AVX512_VNNI FMA, in other operations, rebuild TensorFlow with the appropriate compiler flags.\n",
      "2023-08-18 15:45:15.106445: W tensorflow/compiler/tf2tensorrt/utils/py_utils.cc:38] TF-TRT Warning: Could not find TensorRT\n"
     ]
    }
   ],
   "source": [
    "import pandas as pd\n",
    "import numpy as np\n",
    "from keras.models import Sequential\n",
    "from keras.layers import LSTM, RepeatVector, TimeDistributed, Dense\n",
    "from keras.optimizers import Adam\n",
    "from sklearn.preprocessing import StandardScaler, MinMaxScaler\n",
    "from sklearn.metrics import confusion_matrix, classification_report\n",
    "from keras.callbacks import EarlyStopping\n",
    "from sklearn.model_selection import train_test_split"
   ]
  },
  {
   "cell_type": "code",
   "execution_count": 2,
   "metadata": {},
   "outputs": [],
   "source": [
    "prom_file_path = \"r14n17_tb.parquet\""
   ]
  },
  {
   "cell_type": "code",
   "execution_count": 3,
   "metadata": {},
   "outputs": [],
   "source": [
    "prom_df = pd.read_parquet(prom_file_path)"
   ]
  },
  {
   "cell_type": "code",
   "execution_count": 4,
   "metadata": {},
   "outputs": [],
   "source": [
    "prom_df = prom_df.drop(['node', 'timestamp'], axis=1)"
   ]
  },
  {
   "cell_type": "code",
   "execution_count": 12,
   "metadata": {},
   "outputs": [],
   "source": [
    "from keras.models import load_model\n",
    "model = load_model('r11n14_lstm_model.h5')"
   ]
  },
  {
   "cell_type": "code",
   "execution_count": 8,
   "metadata": {},
   "outputs": [],
   "source": [
    "from sklearn.preprocessing import MinMaxScaler\n",
    "import numpy as np\n",
    "import pandas as pd\n",
    "\n",
    "scaler_new = MinMaxScaler()\n",
    "prom_df_scaled = pd.DataFrame(scaler_new.fit_transform(prom_df), columns=prom_df.columns)\n",
    "\n",
    "if 'nvidia_gpu_temperature_celsius-max' not in prom_df_scaled.columns:\n",
    "    prom_df_scaled['nvidia_gpu_temperature_celsius-max'] = 0\n",
    "\n",
    "prom_df_scaled = prom_df_scaled[prom_df.columns.tolist()]\n",
    "\n",
    "timesteps = 10  \n",
    "sequences_new = np.array([prom_df_scaled[i: i + timesteps].values for i in range(len(prom_df_scaled) - timesteps)])\n"
   ]
  },
  {
   "cell_type": "code",
   "execution_count": 5,
   "metadata": {},
   "outputs": [],
   "source": [
    "scaler = MinMaxScaler()\n",
    "prom_df = pd.DataFrame(scaler.fit_transform(prom_df), columns=prom_df.columns)\n",
    "\n",
    "labels = prom_df['isAnomaly']\n",
    "prom_df = prom_df.drop('isAnomaly', axis=1)\n",
    "\n",
    "timesteps = 10\n",
    "n_features = prom_df.shape[1]\n",
    "\n",
    "sequences = np.array([prom_df[i: i + timesteps].values for i in range(len(prom_df) - timesteps)])\n",
    "labels = labels[timesteps:]\n",
    "\n",
    "model = Sequential()\n",
    "model.add(LSTM(100, activation='relu', input_shape=(timesteps, n_features), return_sequences=True))\n",
    "model.add(LSTM(50, activation='relu', return_sequences=False))\n",
    "model.add(RepeatVector(timesteps))\n",
    "model.add(LSTM(50, activation='relu', return_sequences=True))\n",
    "model.add(LSTM(100, activation='relu', return_sequences=True))\n",
    "model.add(TimeDistributed(Dense(n_features)))\n",
    "\n",
    "model.compile(optimizer=Adam(), loss='mse')\n"
   ]
  },
  {
   "cell_type": "code",
   "execution_count": 6,
   "metadata": {},
   "outputs": [
    {
     "name": "stdout",
     "output_type": "stream",
     "text": [
      "Epoch 1/25\n",
      "231/231 [==============================] - 23s 86ms/step - loss: 0.0095 - val_loss: 4.6828e-04\n",
      "Epoch 2/25\n",
      "231/231 [==============================] - 19s 82ms/step - loss: 4.1008e-04 - val_loss: 2.4503e-04\n",
      "Epoch 3/25\n",
      "231/231 [==============================] - 19s 82ms/step - loss: 2.9952e-04 - val_loss: 2.5295e-04\n",
      "Epoch 4/25\n",
      "231/231 [==============================] - 19s 82ms/step - loss: 2.5262e-04 - val_loss: 1.8020e-04\n",
      "Epoch 5/25\n",
      "152/231 [==================>...........] - ETA: 5s - loss: 2.2030e-04"
     ]
    }
   ],
   "source": [
    "es = EarlyStopping(monitor='val_loss', mode='min', verbose=1, patience=5)\n",
    "\n",
    "history = model.fit(sequences, sequences, epochs=25, batch_size=128, verbose=1, validation_split=0.2, callbacks=[es])"
   ]
  },
  {
   "cell_type": "code",
   "execution_count": null,
   "metadata": {},
   "outputs": [],
   "source": [
    "model.save('r11n14_lstm_model.h5')"
   ]
  },
  {
   "cell_type": "code",
   "execution_count": 15,
   "metadata": {},
   "outputs": [],
   "source": [
    "labels = prom_df['isAnomaly']\n",
    "sequences = np.array([prom_df[i: i + timesteps].values for i in range(len(prom_df) - timesteps)])\n",
    "labels = labels[timesteps:]"
   ]
  },
  {
   "cell_type": "code",
   "execution_count": 13,
   "metadata": {},
   "outputs": [
    {
     "name": "stdout",
     "output_type": "stream",
     "text": [
      "2758/2758 [==============================] - 39s 14ms/step\n"
     ]
    }
   ],
   "source": [
    "pred = model.predict(sequences)\n",
    "\n",
    "mse = np.mean(np.power(sequences - pred, 2), axis=(1, 2))\n",
    "threshold = np.percentile(mse, 67)  \n",
    "\n",
    "pred_labels = [1 if e > threshold else 0 for e in mse]"
   ]
  },
  {
   "cell_type": "code",
   "execution_count": 16,
   "metadata": {},
   "outputs": [
    {
     "name": "stdout",
     "output_type": "stream",
     "text": [
      "              precision    recall  f1-score   support\n",
      "\n",
      "           0       0.86      0.87      0.86     58108\n",
      "           1       0.74      0.72      0.73     30126\n",
      "\n",
      "    accuracy                           0.82     88234\n",
      "   macro avg       0.80      0.80      0.80     88234\n",
      "weighted avg       0.82      0.82      0.82     88234\n",
      "\n",
      "[[50644  7464]\n",
      " [ 8473 21653]]\n"
     ]
    }
   ],
   "source": [
    "print(classification_report(labels, pred_labels))\n",
    "print(confusion_matrix(labels, pred_labels))"
   ]
  },
  {
   "cell_type": "code",
   "execution_count": 8,
   "metadata": {},
   "outputs": [
    {
     "name": "stdout",
     "output_type": "stream",
     "text": [
      "              precision    recall  f1-score   support\n",
      "\n",
      "         0.0       0.95      0.96      0.95     24550\n",
      "         1.0       0.91      0.90      0.91     12286\n",
      "\n",
      "    accuracy                           0.94     36836\n",
      "   macro avg       0.93      0.93      0.93     36836\n",
      "weighted avg       0.94      0.94      0.94     36836\n",
      "\n",
      "[[23494  1056]\n",
      " [ 1186 11100]]\n"
     ]
    }
   ],
   "source": [
    "print(classification_report(labels, pred_labels))\n",
    "print(confusion_matrix(labels, pred_labels))"
   ]
  },
  {
   "cell_type": "code",
   "execution_count": 17,
   "metadata": {},
   "outputs": [
    {
     "name": "stdout",
     "output_type": "stream",
     "text": [
      "              precision    recall  f1-score   support\n",
      "\n",
      "           0       0.86      0.87      0.86     58108\n",
      "           1       0.74      0.72      0.73     30126\n",
      "\n",
      "    accuracy                           0.82     88234\n",
      "   macro avg       0.80      0.80      0.80     88234\n",
      "weighted avg       0.82      0.82      0.82     88234\n",
      "\n",
      "Confusion matrix:\n",
      " [[50644  7464]\n",
      " [ 8473 21653]]\n",
      "ROC AUC Score: 0.7951487269221547\n"
     ]
    },
    {
     "data": {
      "image/png": "[encoded data removed]",
      "text/plain": [
       "<Figure size 640x480 with 1 Axes>"
      ]
     },
     "metadata": {},
     "output_type": "display_data"
    }
   ],
   "source": [
    "from sklearn.metrics import classification_report, confusion_matrix, roc_auc_score, roc_curve\n",
    "import matplotlib.pyplot as plt\n",
    "import numpy as np\n",
    "print(classification_report(labels, pred_labels))\n",
    "\n",
    "conf_mat = confusion_matrix(labels, pred_labels)\n",
    "print('Confusion matrix:\\n', conf_mat)\n",
    "\n",
    "roc_auc = roc_auc_score(labels, pred_labels)\n",
    "print('ROC AUC Score:', roc_auc)\n",
    "\n",
    "fpr, tpr, _ = roc_curve(labels, pred_labels)\n",
    "plt.figure()\n",
    "plt.plot(fpr, tpr, label='ROC curve (area = %0.2f)' % roc_auc)\n",
    "plt.plot([0, 1], [0, 1], color='navy', linestyle='--')\n",
    "plt.xlim([0.0, 1.0])\n",
    "plt.ylim([0.0, 1.05])\n",
    "plt.xlabel('False Positive Rate')\n",
    "plt.ylabel('True Positive Rate')\n",
    "plt.title('Receiver Operating Characteristic for Autoencoder')\n",
    "plt.legend(loc=\"lower right\")\n",
    "\n",
    "plt.savefig('lstmautoencoder_roc_curve_r14n17.pdf', format='pdf')\n",
    "\n",
    "plt.show()"
   ]
  },
  {
   "cell_type": "code",
   "execution_count": 8,
   "metadata": {},
   "outputs": [
    {
     "name": "stdout",
     "output_type": "stream",
     "text": [
      "              precision    recall  f1-score   support\n",
      "\n",
      "         0.0       0.96      0.96      0.96     24550\n",
      "         1.0       0.93      0.92      0.92     12286\n",
      "\n",
      "    accuracy                           0.95     36836\n",
      "   macro avg       0.94      0.94      0.94     36836\n",
      "weighted avg       0.95      0.95      0.95     36836\n",
      "\n",
      "[[23658   892]\n",
      " [ 1022 11264]]\n"
     ]
    }
   ],
   "source": [
    "print(classification_report(labels, pred_labels))\n",
    "print(confusion_matrix(labels, pred_labels))"
   ]
  }
 ],
 "metadata": {
  "kernelspec": {
   "display_name": "Python 3 (ipykernel)",
   "language": "python",
   "name": "python3"
  }
 },
 "nbformat": 4,
 "nbformat_minor": 2
}
