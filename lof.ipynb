{
 "cells": [
  {
   "cell_type": "code",
   "execution_count": 1,
   "metadata": {},
   "outputs": [],
   "source": [
    "from sklearn.neighbors import LocalOutlierFactor\n",
    "from sklearn.metrics import classification_report, confusion_matrix\n",
    "import pandas as pd\n",
    "import numpy as np"
   ]
  },
  {
   "cell_type": "code",
   "execution_count": 2,
   "metadata": {},
   "outputs": [],
   "source": [
    "prom_file_path = \"prom_pure_label.parquet\""
   ]
  },
  {
   "cell_type": "code",
   "execution_count": 3,
   "metadata": {},
   "outputs": [],
   "source": [
    "prom_df = pd.read_parquet(prom_file_path)"
   ]
  },
  {
   "cell_type": "code",
   "execution_count": 4,
   "metadata": {},
   "outputs": [],
   "source": [
    "prom_df = prom_df.drop('node', axis=1)\n",
    "\n",
    "prom_df = prom_df.drop('timestamp', axis=1)"
   ]
  },
  {
   "cell_type": "code",
   "execution_count": 6,
   "metadata": {},
   "outputs": [
    {
     "name": "stdout",
     "output_type": "stream",
     "text": [
      "              precision    recall  f1-score   support\n",
      "\n",
      "           0       0.97      0.97      0.97 120006718\n",
      "           1       0.03      0.03      0.03   3558579\n",
      "\n",
      "    accuracy                           0.94 123565297\n",
      "   macro avg       0.50      0.50      0.50 123565297\n",
      "weighted avg       0.94      0.94      0.94 123565297\n",
      "\n",
      "[[116656664   3350054]\n",
      " [  3448804    109775]]\n"
     ]
    }
   ],
   "source": [
    "feature_cols = [col for col in prom_df.columns if col != 'isAnomaly']\n",
    "lof = LocalOutlierFactor(n_neighbors=20, contamination=0.028)\n",
    "\n",
    "pred = lof.fit_predict(prom_df[feature_cols])\n",
    "\n",
    "pred_labels = [1 if i == -1 else 0 for i in pred]\n",
    "\n",
    "print(classification_report(prom_df['isAnomaly'], pred_labels))\n",
    "print(confusion_matrix(prom_df['isAnomaly'], pred_labels))"
   ]
  },
  {
   "cell_type": "code",
   "execution_count": 7,
   "metadata": {},
   "outputs": [
    {
     "data": {
      "text/plain": [
       "['lof_model.joblib']"
      ]
     },
     "execution_count": 7,
     "metadata": {},
     "output_type": "execute_result"
    }
   ],
   "source": [
    "import joblib\n",
    "model_filename = 'lof_model.joblib'\n",
    "joblib.dump(lof, model_filename)"
   ]
  }
 ],
 "metadata": {
  "kernelspec": {
   "display_name": "Python 3 (ipykernel)",
   "language": "python",
   "name": "python3"
  },
  "language_info": {
   "codemirror_mode": {
    "name": "ipython",
    "version": 3
   },
   "file_extension": ".py",
   "mimetype": "text/x-python",
   "name": "python",
   "nbconvert_exporter": "python",
   "pygments_lexer": "ipython3",
   "version": "3.11.0"
  }
 },
 "nbformat": 4,
 "nbformat_minor": 2
}
