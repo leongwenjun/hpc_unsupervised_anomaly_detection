{
 "cells": [
  {
   "cell_type": "code",
   "execution_count": 1,
   "metadata": {},
   "outputs": [
    {
     "name": "stderr",
     "output_type": "stream",
     "text": [
      "2023-08-18 15:41:03.980903: I tensorflow/core/util/port.cc:110] oneDNN custom operations are on. You may see slightly different numerical results due to floating-point round-off errors from different computation orders. To turn them off, set the environment variable `TF_ENABLE_ONEDNN_OPTS=0`.\n",
      "2023-08-18 15:41:03.983142: I tensorflow/tsl/cuda/cudart_stub.cc:28] Could not find cuda drivers on your machine, GPU will not be used.\n",
      "2023-08-18 15:41:04.029537: I tensorflow/tsl/cuda/cudart_stub.cc:28] Could not find cuda drivers on your machine, GPU will not be used.\n",
      "2023-08-18 15:41:04.030414: I tensorflow/core/platform/cpu_feature_guard.cc:182] This TensorFlow binary is optimized to use available CPU instructions in performance-critical operations.\n",
      "To enable the following instructions: AVX2 AVX512F AVX512_VNNI FMA, in other operations, rebuild TensorFlow with the appropriate compiler flags.\n",
      "2023-08-18 15:41:04.718602: W tensorflow/compiler/tf2tensorrt/utils/py_utils.cc:38] TF-TRT Warning: Could not find TensorRT\n"
     ]
    }
   ],
   "source": [
    "import pandas as pd\n",
    "import numpy as np\n",
    "from keras.models import Sequential\n",
    "from keras.layers import LSTM, RepeatVector, TimeDistributed, Dense\n",
    "from keras.optimizers import Adam\n",
    "from sklearn.preprocessing import StandardScaler, MinMaxScaler\n",
    "from sklearn.metrics import confusion_matrix, classification_report\n",
    "from keras.callbacks import EarlyStopping\n",
    "from sklearn.model_selection import train_test_split"
   ]
  },
  {
   "cell_type": "code",
   "execution_count": 2,
   "metadata": {},
   "outputs": [],
   "source": [
    "prom_file_path = \"../r11n14_tb.parquet\""
   ]
  },
  {
   "cell_type": "code",
   "execution_count": 17,
   "metadata": {},
   "outputs": [],
   "source": [
    "prom_df = pd.read_parquet(prom_file_path)"
   ]
  },
  {
   "cell_type": "code",
   "execution_count": 18,
   "metadata": {},
   "outputs": [],
   "source": [
    "prom_df = prom_df.drop(['node', 'timestamp'], axis=1)"
   ]
  },
  {
   "cell_type": "code",
   "execution_count": 5,
   "metadata": {},
   "outputs": [],
   "source": [
    "scaler = MinMaxScaler()\n",
    "prom_df = pd.DataFrame(scaler.fit_transform(prom_df), columns=prom_df.columns)\n",
    "\n",
    "labels = prom_df['isAnomaly']\n",
    "prom_df = prom_df.drop('isAnomaly', axis=1)\n",
    "\n",
    "timesteps = 10\n",
    "n_features = prom_df.shape[1]\n",
    "\n",
    "sequences = np.array([prom_df[i: i + timesteps].values for i in range(len(prom_df) - timesteps)])\n",
    "labels = labels[timesteps:]\n",
    "\n",
    "model = Sequential()\n",
    "model.add(LSTM(100, activation='relu', input_shape=(timesteps, n_features), return_sequences=True))\n",
    "model.add(LSTM(50, activation='relu', return_sequences=False))\n",
    "model.add(RepeatVector(timesteps))\n",
    "model.add(LSTM(50, activation='relu', return_sequences=True))\n",
    "model.add(LSTM(100, activation='relu', return_sequences=True))\n",
    "model.add(TimeDistributed(Dense(n_features)))\n",
    "\n",
    "model.compile(optimizer=Adam(), loss='mse')\n"
   ]
  },
  {
   "cell_type": "code",
   "execution_count": 19,
   "metadata": {},
   "outputs": [],
   "source": [
    "scaler = MinMaxScaler()\n",
    "prom_df = pd.DataFrame(scaler.fit_transform(prom_df), columns=prom_df.columns)\n",
    "\n",
    "labels = prom_df['isAnomaly']\n",
    "prom_df = prom_df.drop('isAnomaly', axis=1)\n",
    "\n",
    "timesteps = 10\n",
    "feature_columns = [col for col in prom_df.columns if col not in ['node', 'timestamp', 'isAnomaly','node_netstat_Udp_InErrors','node_netstat_Tcp_InErrs','node_netstat_Icmp_InErrors','node_filesystem_device_error-sum']]\n",
    "n_features = len(feature_columns)\n",
    "\n",
    "sequences = np.array([prom_df[i: i + timesteps].values for i in range(len(prom_df) - timesteps)])\n",
    "labels = labels[timesteps:]\n",
    "\n",
    "model = Sequential()\n",
    "model.add(LSTM(100, activation='relu', input_shape=(timesteps, n_features), return_sequences=True))\n",
    "model.add(LSTM(50, activation='relu', return_sequences=False))\n",
    "model.add(RepeatVector(timesteps))\n",
    "model.add(LSTM(50, activation='relu', return_sequences=True))\n",
    "model.add(LSTM(100, activation='relu', return_sequences=True))\n",
    "model.add(TimeDistributed(Dense(n_features)))\n",
    "\n",
    "model.compile(optimizer=Adam(), loss='mse')\n"
   ]
  },
  {
   "cell_type": "code",
   "execution_count": 22,
   "metadata": {},
   "outputs": [],
   "source": [
    "columns_to_drop = ['node', 'timestamp', 'isAnomaly', 'node_netstat_Udp_InErrors', \n",
    "                   'node_netstat_Tcp_InErrs', 'node_netstat_Icmp_InErrors', 'node_filesystem_device_error-sum']\n",
    "\n",
    "for col in columns_to_drop:\n",
    "    if col in prom_df.columns:\n",
    "        prom_df = prom_df.drop(columns=col)\n"
   ]
  },
  {
   "cell_type": "code",
   "execution_count": 23,
   "metadata": {},
   "outputs": [
    {
     "name": "stdout",
     "output_type": "stream",
     "text": [
      "6\n"
     ]
    }
   ],
   "source": [
    "print(prom_df.shape[1])  \n"
   ]
  },
  {
   "cell_type": "code",
   "execution_count": 26,
   "metadata": {},
   "outputs": [],
   "source": [
    "sequences = np.array([prom_df[i: i + timesteps].values for i in range(len(prom_df) - timesteps)])\n",
    "labels = labels[timesteps:]\n",
    "\n",
    "model = Sequential()\n",
    "model.add(LSTM(100, activation='relu', input_shape=(timesteps, n_features), return_sequences=True))\n",
    "model.add(LSTM(50, activation='relu', return_sequences=False))\n",
    "model.add(RepeatVector(timesteps))\n",
    "model.add(LSTM(50, activation='relu', return_sequences=True))\n",
    "model.add(LSTM(100, activation='relu', return_sequences=True))\n",
    "model.add(TimeDistributed(Dense(n_features)))\n",
    "\n",
    "model.compile(optimizer=Adam(), loss='mse')"
   ]
  },
  {
   "cell_type": "code",
   "execution_count": 27,
   "metadata": {},
   "outputs": [
    {
     "name": "stdout",
     "output_type": "stream",
     "text": [
      "(36836, 10, 6)\n"
     ]
    }
   ],
   "source": [
    "print(sequences.shape) "
   ]
  },
  {
   "cell_type": "code",
   "execution_count": 11,
   "metadata": {},
   "outputs": [
    {
     "data": {
      "text/html": [
       "<div>\n",
       "<style scoped>\n",
       "    .dataframe tbody tr th:only-of-type {\n",
       "        vertical-align: middle;\n",
       "    }\n",
       "\n",
       "    .dataframe tbody tr th {\n",
       "        vertical-align: top;\n",
       "    }\n",
       "\n",
       "    .dataframe thead th {\n",
       "        text-align: right;\n",
       "    }\n",
       "</style>\n",
       "<table border=\"1\" class=\"dataframe\">\n",
       "  <thead>\n",
       "    <tr style=\"text-align: right;\">\n",
       "      <th></th>\n",
       "      <th>node_load15</th>\n",
       "      <th>node_load5</th>\n",
       "      <th>node_load1</th>\n",
       "      <th>node_memory_Active_bytes</th>\n",
       "      <th>node_filesystem_device_error-sum</th>\n",
       "      <th>node_netstat_Icmp_InErrors</th>\n",
       "      <th>node_netstat_Tcp_InErrs</th>\n",
       "      <th>node_netstat_Udp_InErrors</th>\n",
       "      <th>nvidia_gpu_power_usage_milliwatts-max</th>\n",
       "      <th>nvidia_gpu_temperature_celsius-max</th>\n",
       "    </tr>\n",
       "  </thead>\n",
       "  <tbody>\n",
       "    <tr>\n",
       "      <th>0</th>\n",
       "      <td>0.007595</td>\n",
       "      <td>0.006965</td>\n",
       "      <td>0.004779</td>\n",
       "      <td>0.003575</td>\n",
       "      <td>0.0</td>\n",
       "      <td>0.0</td>\n",
       "      <td>0.0</td>\n",
       "      <td>0.0</td>\n",
       "      <td>0.0</td>\n",
       "      <td>0.0</td>\n",
       "    </tr>\n",
       "    <tr>\n",
       "      <th>1</th>\n",
       "      <td>0.007595</td>\n",
       "      <td>0.006965</td>\n",
       "      <td>0.004779</td>\n",
       "      <td>0.003548</td>\n",
       "      <td>0.0</td>\n",
       "      <td>0.0</td>\n",
       "      <td>0.0</td>\n",
       "      <td>0.0</td>\n",
       "      <td>0.0</td>\n",
       "      <td>0.0</td>\n",
       "    </tr>\n",
       "    <tr>\n",
       "      <th>2</th>\n",
       "      <td>0.007595</td>\n",
       "      <td>0.006897</td>\n",
       "      <td>0.004779</td>\n",
       "      <td>0.003561</td>\n",
       "      <td>0.0</td>\n",
       "      <td>0.0</td>\n",
       "      <td>0.0</td>\n",
       "      <td>0.0</td>\n",
       "      <td>0.0</td>\n",
       "      <td>0.0</td>\n",
       "    </tr>\n",
       "    <tr>\n",
       "      <th>3</th>\n",
       "      <td>0.007595</td>\n",
       "      <td>0.006897</td>\n",
       "      <td>0.004779</td>\n",
       "      <td>0.003552</td>\n",
       "      <td>0.0</td>\n",
       "      <td>0.0</td>\n",
       "      <td>0.0</td>\n",
       "      <td>0.0</td>\n",
       "      <td>0.0</td>\n",
       "      <td>0.0</td>\n",
       "    </tr>\n",
       "    <tr>\n",
       "      <th>4</th>\n",
       "      <td>0.007595</td>\n",
       "      <td>0.006897</td>\n",
       "      <td>0.004779</td>\n",
       "      <td>0.003568</td>\n",
       "      <td>0.0</td>\n",
       "      <td>0.0</td>\n",
       "      <td>0.0</td>\n",
       "      <td>0.0</td>\n",
       "      <td>0.0</td>\n",
       "      <td>0.0</td>\n",
       "    </tr>\n",
       "    <tr>\n",
       "      <th>...</th>\n",
       "      <td>...</td>\n",
       "      <td>...</td>\n",
       "      <td>...</td>\n",
       "      <td>...</td>\n",
       "      <td>...</td>\n",
       "      <td>...</td>\n",
       "      <td>...</td>\n",
       "      <td>...</td>\n",
       "      <td>...</td>\n",
       "      <td>...</td>\n",
       "    </tr>\n",
       "    <tr>\n",
       "      <th>36841</th>\n",
       "      <td>0.039796</td>\n",
       "      <td>0.034619</td>\n",
       "      <td>0.023992</td>\n",
       "      <td>0.482150</td>\n",
       "      <td>0.0</td>\n",
       "      <td>0.0</td>\n",
       "      <td>0.0</td>\n",
       "      <td>0.0</td>\n",
       "      <td>0.0</td>\n",
       "      <td>0.0</td>\n",
       "    </tr>\n",
       "    <tr>\n",
       "      <th>36842</th>\n",
       "      <td>0.039796</td>\n",
       "      <td>0.034619</td>\n",
       "      <td>0.024183</td>\n",
       "      <td>0.489019</td>\n",
       "      <td>0.0</td>\n",
       "      <td>0.0</td>\n",
       "      <td>0.0</td>\n",
       "      <td>0.0</td>\n",
       "      <td>0.0</td>\n",
       "      <td>0.0</td>\n",
       "    </tr>\n",
       "    <tr>\n",
       "      <th>36843</th>\n",
       "      <td>0.039721</td>\n",
       "      <td>0.034551</td>\n",
       "      <td>0.024087</td>\n",
       "      <td>0.496611</td>\n",
       "      <td>0.0</td>\n",
       "      <td>0.0</td>\n",
       "      <td>0.0</td>\n",
       "      <td>0.0</td>\n",
       "      <td>0.0</td>\n",
       "      <td>0.0</td>\n",
       "    </tr>\n",
       "    <tr>\n",
       "      <th>36844</th>\n",
       "      <td>0.039645</td>\n",
       "      <td>0.034551</td>\n",
       "      <td>0.023992</td>\n",
       "      <td>0.498530</td>\n",
       "      <td>0.0</td>\n",
       "      <td>0.0</td>\n",
       "      <td>0.0</td>\n",
       "      <td>0.0</td>\n",
       "      <td>0.0</td>\n",
       "      <td>0.0</td>\n",
       "    </tr>\n",
       "    <tr>\n",
       "      <th>36845</th>\n",
       "      <td>0.039569</td>\n",
       "      <td>0.034483</td>\n",
       "      <td>0.023944</td>\n",
       "      <td>0.499090</td>\n",
       "      <td>0.0</td>\n",
       "      <td>0.0</td>\n",
       "      <td>0.0</td>\n",
       "      <td>0.0</td>\n",
       "      <td>0.0</td>\n",
       "      <td>0.0</td>\n",
       "    </tr>\n",
       "  </tbody>\n",
       "</table>\n",
       "<p>36846 rows × 10 columns</p>\n",
       "</div>"
      ],
      "text/plain": [
       "       node_load15  node_load5  node_load1  node_memory_Active_bytes  \\\n",
       "0         0.007595    0.006965    0.004779                  0.003575   \n",
       "1         0.007595    0.006965    0.004779                  0.003548   \n",
       "2         0.007595    0.006897    0.004779                  0.003561   \n",
       "3         0.007595    0.006897    0.004779                  0.003552   \n",
       "4         0.007595    0.006897    0.004779                  0.003568   \n",
       "...            ...         ...         ...                       ...   \n",
       "36841     0.039796    0.034619    0.023992                  0.482150   \n",
       "36842     0.039796    0.034619    0.024183                  0.489019   \n",
       "36843     0.039721    0.034551    0.024087                  0.496611   \n",
       "36844     0.039645    0.034551    0.023992                  0.498530   \n",
       "36845     0.039569    0.034483    0.023944                  0.499090   \n",
       "\n",
       "       node_filesystem_device_error-sum  node_netstat_Icmp_InErrors  \\\n",
       "0                                   0.0                         0.0   \n",
       "1                                   0.0                         0.0   \n",
       "2                                   0.0                         0.0   \n",
       "3                                   0.0                         0.0   \n",
       "4                                   0.0                         0.0   \n",
       "...                                 ...                         ...   \n",
       "36841                               0.0                         0.0   \n",
       "36842                               0.0                         0.0   \n",
       "36843                               0.0                         0.0   \n",
       "36844                               0.0                         0.0   \n",
       "36845                               0.0                         0.0   \n",
       "\n",
       "       node_netstat_Tcp_InErrs  node_netstat_Udp_InErrors  \\\n",
       "0                          0.0                        0.0   \n",
       "1                          0.0                        0.0   \n",
       "2                          0.0                        0.0   \n",
       "3                          0.0                        0.0   \n",
       "4                          0.0                        0.0   \n",
       "...                        ...                        ...   \n",
       "36841                      0.0                        0.0   \n",
       "36842                      0.0                        0.0   \n",
       "36843                      0.0                        0.0   \n",
       "36844                      0.0                        0.0   \n",
       "36845                      0.0                        0.0   \n",
       "\n",
       "       nvidia_gpu_power_usage_milliwatts-max  \\\n",
       "0                                        0.0   \n",
       "1                                        0.0   \n",
       "2                                        0.0   \n",
       "3                                        0.0   \n",
       "4                                        0.0   \n",
       "...                                      ...   \n",
       "36841                                    0.0   \n",
       "36842                                    0.0   \n",
       "36843                                    0.0   \n",
       "36844                                    0.0   \n",
       "36845                                    0.0   \n",
       "\n",
       "       nvidia_gpu_temperature_celsius-max  \n",
       "0                                     0.0  \n",
       "1                                     0.0  \n",
       "2                                     0.0  \n",
       "3                                     0.0  \n",
       "4                                     0.0  \n",
       "...                                   ...  \n",
       "36841                                 0.0  \n",
       "36842                                 0.0  \n",
       "36843                                 0.0  \n",
       "36844                                 0.0  \n",
       "36845                                 0.0  \n",
       "\n",
       "[36846 rows x 10 columns]"
      ]
     },
     "execution_count": 11,
     "metadata": {},
     "output_type": "execute_result"
    }
   ],
   "source": [
    "prom_df"
   ]
  },
  {
   "cell_type": "code",
   "execution_count": 28,
   "metadata": {},
   "outputs": [
    {
     "name": "stdout",
     "output_type": "stream",
     "text": [
      "Epoch 1/25\n",
      "231/231 [==============================] - 23s 85ms/step - loss: 0.0135 - val_loss: 6.6133e-04\n",
      "Epoch 2/25\n",
      "231/231 [==============================] - 19s 82ms/step - loss: 6.4990e-04 - val_loss: 3.6652e-04\n",
      "Epoch 3/25\n",
      "231/231 [==============================] - 19s 82ms/step - loss: 4.7896e-04 - val_loss: 3.2892e-04\n",
      "Epoch 4/25\n",
      "231/231 [==============================] - 19s 82ms/step - loss: 3.9929e-04 - val_loss: 2.8348e-04\n",
      "Epoch 5/25\n",
      "231/231 [==============================] - 19s 82ms/step - loss: 3.3753e-04 - val_loss: 2.0302e-04\n",
      "Epoch 6/25\n",
      "231/231 [==============================] - 19s 82ms/step - loss: 3.0139e-04 - val_loss: 2.1077e-04\n",
      "Epoch 7/25\n",
      "231/231 [==============================] - 19s 82ms/step - loss: 2.5112e-04 - val_loss: 1.5643e-04\n",
      "Epoch 8/25\n",
      "231/231 [==============================] - 19s 82ms/step - loss: 2.4354e-04 - val_loss: 2.0471e-04\n",
      "Epoch 9/25\n",
      "231/231 [==============================] - 19s 82ms/step - loss: 2.1974e-04 - val_loss: 1.6523e-04\n",
      "Epoch 10/25\n",
      "231/231 [==============================] - 19s 82ms/step - loss: 2.2031e-04 - val_loss: 1.6488e-04\n",
      "Epoch 11/25\n",
      "231/231 [==============================] - 19s 82ms/step - loss: 1.8326e-04 - val_loss: 2.0100e-04\n",
      "Epoch 12/25\n",
      "231/231 [==============================] - 19s 82ms/step - loss: 1.6951e-04 - val_loss: 1.5423e-04\n",
      "Epoch 13/25\n",
      "231/231 [==============================] - 19s 82ms/step - loss: 1.6691e-04 - val_loss: 1.5099e-04\n",
      "Epoch 14/25\n",
      "231/231 [==============================] - 19s 82ms/step - loss: 2.5249e-04 - val_loss: 1.7525e-04\n",
      "Epoch 15/25\n",
      "231/231 [==============================] - 19s 82ms/step - loss: 1.9460e-04 - val_loss: 1.8633e-04\n",
      "Epoch 16/25\n",
      "231/231 [==============================] - 19s 82ms/step - loss: 1.4724e-04 - val_loss: 1.1364e-04\n",
      "Epoch 17/25\n",
      "231/231 [==============================] - 19s 82ms/step - loss: 1.4413e-04 - val_loss: 1.7302e-04\n",
      "Epoch 18/25\n",
      "231/231 [==============================] - 19s 82ms/step - loss: 1.5199e-04 - val_loss: 9.5702e-05\n",
      "Epoch 19/25\n",
      "231/231 [==============================] - 19s 82ms/step - loss: 1.1746e-04 - val_loss: 8.7121e-05\n",
      "Epoch 20/25\n",
      "231/231 [==============================] - 19s 82ms/step - loss: 1.4788e-04 - val_loss: 1.6550e-04\n",
      "Epoch 21/25\n",
      "231/231 [==============================] - 19s 82ms/step - loss: 1.2289e-04 - val_loss: 1.0658e-04\n",
      "Epoch 22/25\n",
      "231/231 [==============================] - 19s 82ms/step - loss: 1.5301e-04 - val_loss: 8.0456e-05\n",
      "Epoch 23/25\n",
      "231/231 [==============================] - 19s 82ms/step - loss: 1.0278e-04 - val_loss: 1.1733e-04\n",
      "Epoch 24/25\n",
      "231/231 [==============================] - 19s 82ms/step - loss: 1.2635e-04 - val_loss: 9.1077e-05\n",
      "Epoch 25/25\n",
      "231/231 [==============================] - 19s 82ms/step - loss: 8.4201e-05 - val_loss: 7.4318e-05\n"
     ]
    }
   ],
   "source": [
    "es = EarlyStopping(monitor='val_loss', mode='min', verbose=1, patience=5)\n",
    "\n",
    "history = model.fit(sequences, sequences, epochs=25, batch_size=128, verbose=1, validation_split=0.2, callbacks=[es])"
   ]
  },
  {
   "cell_type": "code",
   "execution_count": 7,
   "metadata": {},
   "outputs": [],
   "source": [
    "model.save('r11n14_lstm_model.h5')"
   ]
  },
  {
   "cell_type": "code",
   "execution_count": 29,
   "metadata": {},
   "outputs": [
    {
     "name": "stdout",
     "output_type": "stream",
     "text": [
      "1152/1152 [==============================] - 17s 14ms/step\n"
     ]
    }
   ],
   "source": [
    "pred = model.predict(sequences)\n",
    "\n",
    "mse = np.mean(np.power(sequences - pred, 2), axis=(1, 2))\n",
    "threshold = np.percentile(mse, 67)  \n",
    "\n",
    "pred_labels = [1 if e > threshold else 0 for e in mse]"
   ]
  },
  {
   "cell_type": "code",
   "execution_count": 8,
   "metadata": {},
   "outputs": [
    {
     "name": "stdout",
     "output_type": "stream",
     "text": [
      "1152/1152 [==============================] - 17s 14ms/step\n"
     ]
    }
   ],
   "source": [
    "pred = model.predict(sequences)\n",
    "\n",
    "mse = np.mean(np.power(sequences - pred, 2), axis=(1, 2))\n",
    "threshold = np.percentile(mse, 67)  \n",
    "\n",
    "pred_labels = [1 if e > threshold else 0 for e in mse]"
   ]
  },
  {
   "cell_type": "code",
   "execution_count": 31,
   "metadata": {},
   "outputs": [
    {
     "name": "stdout",
     "output_type": "stream",
     "text": [
      "              precision    recall  f1-score   support\n",
      "\n",
      "         0.0       0.90      0.91      0.90     24540\n",
      "         1.0       0.81      0.80      0.81     12286\n",
      "\n",
      "    accuracy                           0.87     36826\n",
      "   macro avg       0.86      0.85      0.85     36826\n",
      "weighted avg       0.87      0.87      0.87     36826\n",
      "\n",
      "[[22228  2312]\n",
      " [ 2452  9834]]\n"
     ]
    }
   ],
   "source": [
    "min_length = min(len(labels), len(pred_labels))\n",
    "labels = labels[:min_length]\n",
    "pred_labels = pred_labels[:min_length]\n",
    "\n",
    "print(classification_report(labels, pred_labels))\n",
    "print(confusion_matrix(labels, pred_labels))"
   ]
  },
  {
   "cell_type": "code",
   "execution_count": 9,
   "metadata": {},
   "outputs": [
    {
     "name": "stdout",
     "output_type": "stream",
     "text": [
      "              precision    recall  f1-score   support\n",
      "\n",
      "         0.0       0.96      0.97      0.97     24550\n",
      "         1.0       0.94      0.93      0.93     12286\n",
      "\n",
      "    accuracy                           0.95     36836\n",
      "   macro avg       0.95      0.95      0.95     36836\n",
      "weighted avg       0.95      0.95      0.95     36836\n",
      "\n",
      "[[23763   787]\n",
      " [  917 11369]]\n"
     ]
    }
   ],
   "source": [
    "print(classification_report(labels, pred_labels))\n",
    "print(confusion_matrix(labels, pred_labels))"
   ]
  },
  {
   "cell_type": "code",
   "execution_count": 8,
   "metadata": {},
   "outputs": [
    {
     "name": "stdout",
     "output_type": "stream",
     "text": [
      "              precision    recall  f1-score   support\n",
      "\n",
      "         0.0       0.95      0.96      0.95     24550\n",
      "         1.0       0.91      0.90      0.91     12286\n",
      "\n",
      "    accuracy                           0.94     36836\n",
      "   macro avg       0.93      0.93      0.93     36836\n",
      "weighted avg       0.94      0.94      0.94     36836\n",
      "\n",
      "[[23494  1056]\n",
      " [ 1186 11100]]\n"
     ]
    }
   ],
   "source": [
    "print(classification_report(labels, pred_labels))\n",
    "print(confusion_matrix(labels, pred_labels))"
   ]
  },
  {
   "cell_type": "code",
   "execution_count": 10,
   "metadata": {},
   "outputs": [
    {
     "name": "stdout",
     "output_type": "stream",
     "text": [
      "              precision    recall  f1-score   support\n",
      "\n",
      "         0.0       0.96      0.97      0.97     24550\n",
      "         1.0       0.94      0.93      0.93     12286\n",
      "\n",
      "    accuracy                           0.95     36836\n",
      "   macro avg       0.95      0.95      0.95     36836\n",
      "weighted avg       0.95      0.95      0.95     36836\n",
      "\n",
      "Confusion matrix:\n",
      " [[23763   787]\n",
      " [  917 11369]]\n",
      "ROC AUC Score: 0.9466525872012355\n"
     ]
    },
    {
     "data": {
      "image/png": "[encoded data removed]",
      "text/plain": [
       "<Figure size 640x480 with 1 Axes>"
      ]
     },
     "metadata": {},
     "output_type": "display_data"
    }
   ],
   "source": [
    "from sklearn.metrics import classification_report, confusion_matrix, roc_auc_score, roc_curve\n",
    "import matplotlib.pyplot as plt\n",
    "import numpy as np\n",
    "print(classification_report(labels, pred_labels))\n",
    "\n",
    "conf_mat = confusion_matrix(labels, pred_labels)\n",
    "print('Confusion matrix:\\n', conf_mat)\n",
    "\n",
    "roc_auc = roc_auc_score(labels, pred_labels)\n",
    "print('ROC AUC Score:', roc_auc)\n",
    "\n",
    "fpr, tpr, _ = roc_curve(labels, pred_labels)\n",
    "plt.figure()\n",
    "plt.plot(fpr, tpr, label='ROC curve (area = %0.2f)' % roc_auc)\n",
    "plt.plot([0, 1], [0, 1], color='navy', linestyle='--')\n",
    "plt.xlim([0.0, 1.0])\n",
    "plt.ylim([0.0, 1.05])\n",
    "plt.xlabel('False Positive Rate')\n",
    "plt.ylabel('True Positive Rate')\n",
    "plt.title('Receiver Operating Characteristic for Autoencoder')\n",
    "plt.legend(loc=\"lower right\")\n",
    "\n",
    "plt.savefig('lstmautoencoder_roc_curve_r11n14.pdf', format='pdf')\n",
    "\n",
    "plt.show()"
   ]
  },
  {
   "cell_type": "code",
   "execution_count": 8,
   "metadata": {},
   "outputs": [
    {
     "name": "stdout",
     "output_type": "stream",
     "text": [
      "              precision    recall  f1-score   support\n",
      "\n",
      "         0.0       0.96      0.96      0.96     24550\n",
      "         1.0       0.93      0.92      0.92     12286\n",
      "\n",
      "    accuracy                           0.95     36836\n",
      "   macro avg       0.94      0.94      0.94     36836\n",
      "weighted avg       0.95      0.95      0.95     36836\n",
      "\n",
      "[[23658   892]\n",
      " [ 1022 11264]]\n"
     ]
    }
   ],
   "source": [
    "print(classification_report(labels, pred_labels))\n",
    "print(confusion_matrix(labels, pred_labels))"
   ]
  }
 ],
 "metadata": {
  "kernelspec": {
   "display_name": "Python 3 (ipykernel)",
   "language": "python",
   "name": "python3"
  },
  "language_info": {
   "codemirror_mode": {
    "name": "ipython",
    "version": 3
   },
   "file_extension": ".py",
   "mimetype": "text/x-python",
   "name": "python",
   "nbconvert_exporter": "python",
   "pygments_lexer": "ipython3",
   "version": "3.11.0"
  }
 },
 "nbformat": 4,
 "nbformat_minor": 2
}
