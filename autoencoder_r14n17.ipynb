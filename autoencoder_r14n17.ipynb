{
 "cells": [
  {
   "cell_type": "code",
   "execution_count": 1,
   "metadata": {},
   "outputs": [],
   "source": [
    "prom_file_path = \"r14n17_tb.parquet\""
   ]
  },
  {
   "cell_type": "code",
   "execution_count": 2,
   "metadata": {},
   "outputs": [
    {
     "name": "stderr",
     "output_type": "stream",
     "text": [
      "2023-08-18 15:29:22.158457: I tensorflow/core/util/port.cc:110] oneDNN custom operations are on. You may see slightly different numerical results due to floating-point round-off errors from different computation orders. To turn them off, set the environment variable `TF_ENABLE_ONEDNN_OPTS=0`.\n",
      "2023-08-18 15:29:22.160812: I tensorflow/tsl/cuda/cudart_stub.cc:28] Could not find cuda drivers on your machine, GPU will not be used.\n",
      "2023-08-18 15:29:22.206594: I tensorflow/tsl/cuda/cudart_stub.cc:28] Could not find cuda drivers on your machine, GPU will not be used.\n",
      "2023-08-18 15:29:22.207458: I tensorflow/core/platform/cpu_feature_guard.cc:182] This TensorFlow binary is optimized to use available CPU instructions in performance-critical operations.\n",
      "To enable the following instructions: AVX2 AVX512F AVX512_VNNI FMA, in other operations, rebuild TensorFlow with the appropriate compiler flags.\n",
      "2023-08-18 15:29:22.905983: W tensorflow/compiler/tf2tensorrt/utils/py_utils.cc:38] TF-TRT Warning: Could not find TensorRT\n"
     ]
    }
   ],
   "source": [
    "import numpy as np\n",
    "from keras.models import Model\n",
    "from keras.layers import Input, Dense\n",
    "from keras.optimizers import Adam\n",
    "from sklearn.metrics import classification_report, confusion_matrix\n",
    "from sklearn.preprocessing import StandardScaler\n",
    "from keras import regularizers"
   ]
  },
  {
   "cell_type": "code",
   "execution_count": 11,
   "metadata": {},
   "outputs": [],
   "source": [
    "import pandas as pd\n",
    "prom_df = pd.read_parquet(prom_file_path)"
   ]
  },
  {
   "cell_type": "code",
   "execution_count": 5,
   "metadata": {},
   "outputs": [],
   "source": [
    "from keras.models import load_model\n",
    "autoencoder = load_model('r11n14_autoencoder_model.h5')"
   ]
  },
  {
   "cell_type": "code",
   "execution_count": 4,
   "metadata": {},
   "outputs": [
    {
     "name": "stdout",
     "output_type": "stream",
     "text": [
      "Epoch 1/20\n",
      "1152/1152 [==============================] - 6s 5ms/step - loss: 0.3612 - mae: 0.4198 - val_loss: 0.3326 - val_mae: 0.3959\n",
      "Epoch 2/20\n",
      "1152/1152 [==============================] - 6s 5ms/step - loss: 0.3321 - mae: 0.3934 - val_loss: 0.3317 - val_mae: 0.3918\n",
      "Epoch 3/20\n",
      "1152/1152 [==============================] - 6s 5ms/step - loss: 0.3316 - mae: 0.3910 - val_loss: 0.3314 - val_mae: 0.3902\n",
      "Epoch 4/20\n",
      "1152/1152 [==============================] - 5s 5ms/step - loss: 0.3313 - mae: 0.3897 - val_loss: 0.3312 - val_mae: 0.3889\n",
      "Epoch 5/20\n",
      "1152/1152 [==============================] - 5s 5ms/step - loss: 0.3311 - mae: 0.3885 - val_loss: 0.3311 - val_mae: 0.3890\n",
      "Epoch 6/20\n",
      "1152/1152 [==============================] - 5s 4ms/step - loss: 0.3310 - mae: 0.3880 - val_loss: 0.3311 - val_mae: 0.3892\n",
      "Epoch 7/20\n",
      "1152/1152 [==============================] - 5s 5ms/step - loss: 0.3310 - mae: 0.3879 - val_loss: 0.3310 - val_mae: 0.3874\n",
      "Epoch 8/20\n",
      "1152/1152 [==============================] - 5s 4ms/step - loss: 0.3309 - mae: 0.3876 - val_loss: 0.3309 - val_mae: 0.3874\n",
      "Epoch 9/20\n",
      "1152/1152 [==============================] - 5s 5ms/step - loss: 0.3309 - mae: 0.3876 - val_loss: 0.3309 - val_mae: 0.3873\n",
      "Epoch 10/20\n",
      "1152/1152 [==============================] - 5s 5ms/step - loss: 0.3309 - mae: 0.3876 - val_loss: 0.3309 - val_mae: 0.3877\n",
      "Epoch 11/20\n",
      "1152/1152 [==============================] - 5s 5ms/step - loss: 0.3309 - mae: 0.3876 - val_loss: 0.3309 - val_mae: 0.3871\n",
      "Epoch 12/20\n",
      "1152/1152 [==============================] - 5s 5ms/step - loss: 0.3309 - mae: 0.3875 - val_loss: 0.3309 - val_mae: 0.3875\n",
      "Epoch 13/20\n",
      "1152/1152 [==============================] - 4s 4ms/step - loss: 0.3309 - mae: 0.3875 - val_loss: 0.3309 - val_mae: 0.3879\n",
      "Epoch 14/20\n",
      "1152/1152 [==============================] - 5s 4ms/step - loss: 0.3309 - mae: 0.3875 - val_loss: 0.3309 - val_mae: 0.3873\n",
      "Epoch 15/20\n",
      "1152/1152 [==============================] - 5s 5ms/step - loss: 0.3309 - mae: 0.3875 - val_loss: 0.3309 - val_mae: 0.3896\n",
      "Epoch 16/20\n",
      "1152/1152 [==============================] - 5s 5ms/step - loss: 0.3309 - mae: 0.3873 - val_loss: 0.3309 - val_mae: 0.3881\n",
      "Epoch 17/20\n",
      "1152/1152 [==============================] - 5s 4ms/step - loss: 0.3309 - mae: 0.3876 - val_loss: 0.3308 - val_mae: 0.3868\n",
      "Epoch 18/20\n",
      "1152/1152 [==============================] - 5s 4ms/step - loss: 0.3308 - mae: 0.3873 - val_loss: 0.3308 - val_mae: 0.3870\n",
      "Epoch 19/20\n",
      "1152/1152 [==============================] - 5s 5ms/step - loss: 0.3308 - mae: 0.3874 - val_loss: 0.3308 - val_mae: 0.3876\n",
      "Epoch 20/20\n",
      "1152/1152 [==============================] - 5s 4ms/step - loss: 0.3308 - mae: 0.3874 - val_loss: 0.3309 - val_mae: 0.3880\n"
     ]
    }
   ],
   "source": [
    "feature_cols = [col for col in prom_df.columns if col not in ['node', 'timestamp', 'isAnomaly','node_netstat_Udp_InErrors','node_netstat_Tcp_InErrs','node_netstat_Icmp_InErrors','node_filesystem_device_error-sum']]\n",
    "X = prom_df[feature_cols]\n",
    "y = prom_df['isAnomaly']\n",
    "\n",
    "scaler = StandardScaler()\n",
    "X_scaled = scaler.fit_transform(X)\n",
    "\n",
    "input_dim = X.shape[1]  \n",
    "encoding_dim = 14  \n",
    "batch_size = 32\n",
    "epochs = 20\n",
    "\n",
    "input_layer = Input(shape=(input_dim, ))\n",
    "encoder = Dense(encoding_dim, activation=\"tanh\", \n",
    "                activity_regularizer=regularizers.l1(10e-5))(input_layer)\n",
    "encoder = Dense(int(encoding_dim / 2), activation=\"relu\")(encoder)\n",
    "decoder = Dense(int(encoding_dim / 2), activation='tanh')(encoder)\n",
    "decoder = Dense(input_dim, activation='relu')(decoder)\n",
    "\n",
    "autoencoder = Model(inputs=input_layer, outputs=decoder)\n",
    "\n",
    "autoencoder.compile(optimizer=Adam(), \n",
    "                    loss='mean_squared_error', \n",
    "                    metrics=['mae'])\n",
    "\n",
    "history = autoencoder.fit(X_scaled, X_scaled,\n",
    "                          epochs=epochs,\n",
    "                          batch_size=batch_size,\n",
    "                          shuffle=True,\n",
    "                          validation_data=(X_scaled, X_scaled))"
   ]
  },
  {
   "cell_type": "code",
   "execution_count": 6,
   "metadata": {},
   "outputs": [],
   "source": [
    "feature_cols = [col for col in prom_df.columns if col not in ['node', 'timestamp', 'isAnomaly','node_netstat_Udp_InErrors','node_netstat_Tcp_InErrs','node_netstat_Icmp_InErrors','node_filesystem_device_error-sum']]\n",
    "X = prom_df[feature_cols]\n",
    "y = prom_df['isAnomaly']\n",
    "\n",
    "scaler = StandardScaler()\n",
    "X_scaled = scaler.fit_transform(X)"
   ]
  },
  {
   "cell_type": "code",
   "execution_count": 12,
   "metadata": {},
   "outputs": [
    {
     "name": "stderr",
     "output_type": "stream",
     "text": [
      "/tmp/ipykernel_189944/3500255732.py:6: SettingWithCopyWarning: \n",
      "A value is trying to be set on a copy of a slice from a DataFrame.\n",
      "Try using .loc[row_indexer,col_indexer] = value instead\n",
      "\n",
      "See the caveats in the documentation: https://pandas.pydata.org/pandas-docs/stable/user_guide/indexing.html#returning-a-view-versus-a-copy\n",
      "  X['nvidia_gpu_temperature_celsius-max'] = 0\n"
     ]
    }
   ],
   "source": [
    "feature_cols = [col for col in prom_df.columns if col not in ['node', 'timestamp', 'isAnomaly','node_netstat_Udp_InErrors','node_netstat_Tcp_InErrs','node_netstat_Icmp_InErrors','node_filesystem_device_error-sum']]\n",
    "X = prom_df[feature_cols]\n",
    "y = prom_df['isAnomaly']\n",
    "if 'nvidia_gpu_temperature_celsius-max' not in X.columns:\n",
    "    X['nvidia_gpu_temperature_celsius-max'] = 0\n",
    "\n",
    "scaler = StandardScaler()\n",
    "X_scaled = scaler.fit_transform(X)"
   ]
  },
  {
   "cell_type": "code",
   "execution_count": 5,
   "metadata": {},
   "outputs": [],
   "source": [
    "autoencoder.save('r11n14_autoencoder_model.h5')"
   ]
  },
  {
   "cell_type": "code",
   "execution_count": 13,
   "metadata": {},
   "outputs": [
    {
     "name": "stdout",
     "output_type": "stream",
     "text": [
      "2758/2758 [==============================] - 2s 853us/step\n",
      "              precision    recall  f1-score   support\n",
      "\n",
      "           0       0.80      0.81      0.80     58108\n",
      "           1       0.62      0.60      0.61     30136\n",
      "\n",
      "    accuracy                           0.74     88244\n",
      "   macro avg       0.71      0.71      0.71     88244\n",
      "weighted avg       0.74      0.74      0.74     88244\n",
      "\n",
      "[[47102 11006]\n",
      " [12022 18114]]\n"
     ]
    }
   ],
   "source": [
    "predictions = autoencoder.predict(X_scaled)\n",
    "mse = np.mean(np.power(X_scaled - predictions, 2), axis=1)\n",
    "\n",
    "threshold = np.quantile(mse, 0.67)  \n",
    "\n",
    "y_pred = [1 if e > threshold else 0 for e in mse]\n",
    "\n",
    "print(classification_report(y, y_pred))\n",
    "print(confusion_matrix(y, y_pred))"
   ]
  },
  {
   "cell_type": "code",
   "execution_count": null,
   "metadata": {},
   "outputs": [
    {
     "name": "stdout",
     "output_type": "stream",
     "text": [
      "   1/1152 [..............................] - ETA: 1:10"
     ]
    },
    {
     "name": "stdout",
     "output_type": "stream",
     "text": [
      "1152/1152 [==============================] - 2s 2ms/step\n",
      "              precision    recall  f1-score   support\n",
      "\n",
      "           0       0.99      0.99      0.99     24560\n",
      "           1       0.98      0.97      0.98     12286\n",
      "\n",
      "    accuracy                           0.98     36846\n",
      "   macro avg       0.98      0.98      0.98     36846\n",
      "weighted avg       0.98      0.98      0.98     36846\n",
      "\n",
      "[[24319   241]\n",
      " [  368 11918]]\n"
     ]
    }
   ],
   "source": [
    "predictions = autoencoder.predict(X_scaled)\n",
    "mse = np.mean(np.power(X_scaled - predictions, 2), axis=1)\n",
    "\n",
    "threshold = np.quantile(mse, 0.67)  \n",
    "\n",
    "y_pred = [1 if e > threshold else 0 for e in mse]\n",
    "\n",
    "print(classification_report(y, y_pred))\n",
    "print(confusion_matrix(y, y_pred))"
   ]
  },
  {
   "cell_type": "code",
   "execution_count": null,
   "metadata": {},
   "outputs": [
    {
     "name": "stdout",
     "output_type": "stream",
     "text": [
      "   1/1152 [..............................] - ETA: 1:43"
     ]
    },
    {
     "name": "stdout",
     "output_type": "stream",
     "text": [
      "1152/1152 [==============================] - 1s 901us/step\n",
      "              precision    recall  f1-score   support\n",
      "\n",
      "           0       0.72      0.72      0.72     24560\n",
      "           1       0.43      0.43      0.43     12286\n",
      "\n",
      "    accuracy                           0.62     36846\n",
      "   macro avg       0.58      0.57      0.58     36846\n",
      "weighted avg       0.62      0.62      0.62     36846\n",
      "\n",
      "[[17682  6878]\n",
      " [ 7005  5281]]\n"
     ]
    }
   ],
   "source": [
    "predictions = autoencoder.predict(X_scaled)\n",
    "mse = np.mean(np.power(X_scaled - predictions, 2), axis=1)\n",
    "\n",
    "threshold = np.quantile(mse, 0.67)  \n",
    "\n",
    "y_pred = [1 if e > threshold else 0 for e in mse]\n",
    "\n",
    "print(classification_report(y, y_pred))\n",
    "print(confusion_matrix(y, y_pred))"
   ]
  },
  {
   "cell_type": "code",
   "execution_count": 8,
   "metadata": {},
   "outputs": [
    {
     "name": "stdout",
     "output_type": "stream",
     "text": [
      "  50/1152 [>.............................] - ETA: 2s"
     ]
    },
    {
     "name": "stdout",
     "output_type": "stream",
     "text": [
      "1152/1152 [==============================] - 2s 2ms/step\n",
      "              precision    recall  f1-score   support\n",
      "\n",
      "           0       0.72      0.72      0.72     24560\n",
      "           1       0.44      0.43      0.43     12286\n",
      "\n",
      "    accuracy                           0.62     36846\n",
      "   macro avg       0.58      0.58      0.58     36846\n",
      "weighted avg       0.62      0.62      0.62     36846\n",
      "\n",
      "[[17703  6857]\n",
      " [ 6984  5302]]\n"
     ]
    }
   ],
   "source": [
    "predictions = autoencoder.predict(X_scaled)\n",
    "mse = np.mean(np.power(X_scaled - predictions, 2), axis=1)\n",
    "\n",
    "threshold = np.quantile(mse, 0.67)  \n",
    "\n",
    "y_pred = [1 if e > threshold else 0 for e in mse]\n",
    "\n",
    "print(classification_report(y, y_pred))\n",
    "print(confusion_matrix(y, y_pred))"
   ]
  },
  {
   "cell_type": "code",
   "execution_count": 16,
   "metadata": {},
   "outputs": [
    {
     "name": "stdout",
     "output_type": "stream",
     "text": [
      " 110/1152 [=>............................] - ETA: 1s"
     ]
    },
    {
     "name": "stdout",
     "output_type": "stream",
     "text": [
      "1152/1152 [==============================] - 1s 859us/step\n",
      "              precision    recall  f1-score   support\n",
      "\n",
      "           0       0.72      0.73      0.73     24560\n",
      "           1       0.45      0.44      0.45     12286\n",
      "\n",
      "    accuracy                           0.63     36846\n",
      "   macro avg       0.59      0.59      0.59     36846\n",
      "weighted avg       0.63      0.63      0.63     36846\n",
      "\n",
      "[[17855  6705]\n",
      " [ 6832  5454]]\n"
     ]
    }
   ],
   "source": [
    "predictions = autoencoder.predict(X_scaled)\n",
    "mse = np.mean(np.power(X_scaled - predictions, 2), axis=1)\n",
    "\n",
    "threshold = np.quantile(mse, 0.67)  \n",
    "\n",
    "y_pred = [1 if e > threshold else 0 for e in mse]\n",
    "\n",
    "print(classification_report(y, y_pred))\n",
    "print(confusion_matrix(y, y_pred))"
   ]
  },
  {
   "cell_type": "code",
   "execution_count": 17,
   "metadata": {},
   "outputs": [
    {
     "name": "stdout",
     "output_type": "stream",
     "text": [
      "1152/1152 [==============================] - 1s 792us/step\n",
      "              precision    recall  f1-score   support\n",
      "\n",
      "           0       0.72      0.73      0.73     24560\n",
      "           1       0.45      0.44      0.45     12286\n",
      "\n",
      "    accuracy                           0.63     36846\n",
      "   macro avg       0.59      0.59      0.59     36846\n",
      "weighted avg       0.63      0.63      0.63     36846\n",
      "\n",
      "[[17855  6705]\n",
      " [ 6832  5454]]\n"
     ]
    }
   ],
   "source": [
    "predictions = autoencoder.predict(X_scaled)\n",
    "mse = np.mean(np.power(X_scaled - predictions, 2), axis=1)\n",
    "\n",
    "threshold = np.quantile(mse, 0.67)  \n",
    "\n",
    "y_pred = [1 if e > threshold else 0 for e in mse]\n",
    "\n",
    "print(classification_report(y, y_pred))\n",
    "print(confusion_matrix(y, y_pred))"
   ]
  },
  {
   "cell_type": "code",
   "execution_count": 20,
   "metadata": {},
   "outputs": [
    {
     "name": "stdout",
     "output_type": "stream",
     "text": [
      "1152/1152 [==============================] - 1s 991us/step\n",
      "              precision    recall  f1-score   support\n",
      "\n",
      "           0       0.50      0.51      0.50     24560\n",
      "           1       0.00      0.00      0.00     12286\n",
      "\n",
      "    accuracy                           0.34     36846\n",
      "   macro avg       0.25      0.25      0.25     36846\n",
      "weighted avg       0.34      0.34      0.34     36846\n",
      "\n",
      "[[12418 12142]\n",
      " [12269    17]]\n"
     ]
    }
   ],
   "source": [
    "predictions = autoencoder.predict(X_scaled)\n",
    "mse = np.mean(np.power(X_scaled - predictions, 2), axis=1)\n",
    "\n",
    "threshold = np.quantile(mse, 0.67)  \n",
    "\n",
    "y_pred = [1 if e > threshold else 0 for e in mse]\n",
    "\n",
    "print(classification_report(y, y_pred))\n",
    "print(confusion_matrix(y, y_pred))"
   ]
  },
  {
   "cell_type": "code",
   "execution_count": 26,
   "metadata": {},
   "outputs": [
    {
     "name": "stdout",
     "output_type": "stream",
     "text": [
      "   1/1152 [..............................] - ETA: 1:06"
     ]
    },
    {
     "name": "stdout",
     "output_type": "stream",
     "text": [
      "1152/1152 [==============================] - 1s 916us/step\n",
      "              precision    recall  f1-score   support\n",
      "\n",
      "           0       0.50      0.51      0.50     24560\n",
      "           1       0.00      0.00      0.00     12286\n",
      "\n",
      "    accuracy                           0.34     36846\n",
      "   macro avg       0.25      0.25      0.25     36846\n",
      "weighted avg       0.34      0.34      0.34     36846\n",
      "\n",
      "[[12418 12142]\n",
      " [12269    17]]\n"
     ]
    }
   ],
   "source": [
    "predictions = autoencoder.predict(X_scaled)\n",
    "mse = np.mean(np.power(X_scaled - predictions, 2), axis=1)\n",
    "\n",
    "threshold = np.quantile(mse, 0.67)  \n",
    "\n",
    "y_pred = [1 if e > threshold else 0 for e in mse]\n",
    "\n",
    "print(classification_report(y, y_pred))\n",
    "print(confusion_matrix(y, y_pred))"
   ]
  },
  {
   "cell_type": "code",
   "execution_count": 5,
   "metadata": {},
   "outputs": [
    {
     "name": "stdout",
     "output_type": "stream",
     "text": [
      "1152/1152 [==============================] - 2s 2ms/step\n",
      "              precision    recall  f1-score   support\n",
      "\n",
      "           0       0.50      0.51      0.50     24560\n",
      "           1       0.00      0.00      0.00     12286\n",
      "\n",
      "    accuracy                           0.34     36846\n",
      "   macro avg       0.25      0.25      0.25     36846\n",
      "weighted avg       0.34      0.34      0.34     36846\n",
      "\n",
      "Confusion matrix:\n",
      " [[12418 12142]\n",
      " [12269    17]]\n",
      "ROC AUC Score: 0.2535012906297839\n"
     ]
    },
    {
     "data": {
      "image/png": "[encoded data removed]",
      "text/plain": [
       "<Figure size 640x480 with 1 Axes>"
      ]
     },
     "metadata": {},
     "output_type": "display_data"
    }
   ],
   "source": [
    "from sklearn.metrics import classification_report, confusion_matrix, roc_auc_score, roc_curve\n",
    "import matplotlib.pyplot as plt\n",
    "import numpy as np\n",
    "\n",
    "predictions = autoencoder.predict(X_scaled)\n",
    "mse = np.mean(np.power(X_scaled - predictions, 2), axis=1)\n",
    "threshold = np.quantile(mse, 0.67)  \n",
    "\n",
    "y_pred = [1 if e > threshold else 0 for e in mse]\n",
    "print(classification_report(y, y_pred))\n",
    "\n",
    "conf_mat = confusion_matrix(y, y_pred)\n",
    "print('Confusion matrix:\\n', conf_mat)\n",
    "\n",
    "roc_auc = roc_auc_score(y, y_pred)\n",
    "print('ROC AUC Score:', roc_auc)\n",
    "\n",
    "fpr, tpr, _ = roc_curve(y, y_pred)\n",
    "plt.figure()\n",
    "plt.plot(fpr, tpr, label='ROC curve (area = %0.2f)' % roc_auc)\n",
    "plt.plot([0, 1], [0, 1], color='navy', linestyle='--')\n",
    "plt.xlim([0.0, 1.0])\n",
    "plt.ylim([0.0, 1.05])\n",
    "plt.xlabel('False Positive Rate')\n",
    "plt.ylabel('True Positive Rate')\n",
    "plt.title('Receiver Operating Characteristic for Autoencoder')\n",
    "plt.legend(loc=\"lower right\")\n",
    "\n",
    "plt.savefig('autoencoder_roc_curve_r11n14.pdf', format='pdf')\n",
    "\n",
    "plt.show()\n"
   ]
  },
  {
   "cell_type": "code",
   "execution_count": 14,
   "metadata": {},
   "outputs": [
    {
     "name": "stdout",
     "output_type": "stream",
     "text": [
      "2758/2758 [==============================] - 2s 867us/step\n",
      "              precision    recall  f1-score   support\n",
      "\n",
      "           0       0.80      0.81      0.80     58108\n",
      "           1       0.62      0.60      0.61     30136\n",
      "\n",
      "    accuracy                           0.74     88244\n",
      "   macro avg       0.71      0.71      0.71     88244\n",
      "weighted avg       0.74      0.74      0.74     88244\n",
      "\n",
      "Confusion matrix:\n",
      " [[47102 11006]\n",
      " [12022 18114]]\n",
      "ROC AUC Score: 0.7058345961582773\n"
     ]
    },
    {
     "data": {
      "image/png": "[encoded data removed]",
      "text/plain": [
       "<Figure size 640x480 with 1 Axes>"
      ]
     },
     "metadata": {},
     "output_type": "display_data"
    }
   ],
   "source": [
    "from sklearn.metrics import classification_report, confusion_matrix, roc_auc_score, roc_curve\n",
    "import matplotlib.pyplot as plt\n",
    "import numpy as np\n",
    "\n",
    "predictions = autoencoder.predict(X_scaled)\n",
    "mse = np.mean(np.power(X_scaled - predictions, 2), axis=1)\n",
    "threshold = np.quantile(mse, 0.67)  \n",
    "\n",
    "y_pred = [1 if e > threshold else 0 for e in mse]\n",
    "print(classification_report(y, y_pred))\n",
    "\n",
    "conf_mat = confusion_matrix(y, y_pred)\n",
    "print('Confusion matrix:\\n', conf_mat)\n",
    "\n",
    "roc_auc = roc_auc_score(y, y_pred)\n",
    "print('ROC AUC Score:', roc_auc)\n",
    "\n",
    "fpr, tpr, _ = roc_curve(y, y_pred)\n",
    "plt.figure()\n",
    "plt.plot(fpr, tpr, label='ROC curve (area = %0.2f)' % roc_auc)\n",
    "plt.plot([0, 1], [0, 1], color='navy', linestyle='--')\n",
    "plt.xlim([0.0, 1.0])\n",
    "plt.ylim([0.0, 1.05])\n",
    "plt.xlabel('False Positive Rate')\n",
    "plt.ylabel('True Positive Rate')\n",
    "plt.title('Receiver Operating Characteristic for Autoencoder')\n",
    "plt.legend(loc=\"lower right\")\n",
    "\n",
    "plt.savefig('autoencoder_roc_curve_r14n17.pdf', format='pdf')\n",
    "\n",
    "plt.show()\n"
   ]
  }
 ],
 "metadata": {
  "kernelspec": {
   "display_name": "Python 3 (ipykernel)",
   "language": "python",
   "name": "python3"
  }
 },
 "nbformat": 4,
 "nbformat_minor": 2
}
