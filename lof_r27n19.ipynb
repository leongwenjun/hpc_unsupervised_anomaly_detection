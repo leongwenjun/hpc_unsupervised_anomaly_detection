{
 "cells": [
  {
   "cell_type": "code",
   "execution_count": 3,
   "metadata": {},
   "outputs": [],
   "source": [
    "from sklearn.neighbors import LocalOutlierFactor\n",
    "from sklearn.metrics import classification_report, confusion_matrix\n",
    "import pandas as pd\n",
    "import numpy as np"
   ]
  },
  {
   "cell_type": "code",
   "execution_count": 1,
   "metadata": {},
   "outputs": [],
   "source": [
    "prom_file_path = \"../r11n14_tb.parquet\""
   ]
  },
  {
   "cell_type": "code",
   "execution_count": 5,
   "metadata": {},
   "outputs": [],
   "source": [
    "prom_df = pd.read_parquet(prom_file_path)"
   ]
  },
  {
   "cell_type": "code",
   "execution_count": 6,
   "metadata": {},
   "outputs": [
    {
     "name": "stdout",
     "output_type": "stream",
     "text": [
      "              precision    recall  f1-score   support\n",
      "\n",
      "           0       0.70      0.70      0.70     24560\n",
      "           1       0.40      0.40      0.40     12286\n",
      "\n",
      "    accuracy                           0.60     36846\n",
      "   macro avg       0.55      0.55      0.55     36846\n",
      "weighted avg       0.60      0.60      0.60     36846\n",
      "\n",
      "[[17299  7261]\n",
      " [ 7388  4898]]\n"
     ]
    }
   ],
   "source": [
    "feature_cols = [col for col in prom_df.columns if col not in ['node', 'timestamp', 'isAnomaly','node_netstat_Udp_InErrors','node_netstat_Tcp_InErrs','node_netstat_Icmp_InErrors','node_filesystem_device_error-sum']]\n",
    "lof = LocalOutlierFactor(n_neighbors=20, contamination=0.33)\n",
    "\n",
    "pred = lof.fit_predict(prom_df[feature_cols])\n",
    "\n",
    "pred_labels = [1 if i == -1 else 0 for i in pred]\n",
    "\n",
    "print(classification_report(prom_df['isAnomaly'], pred_labels))\n",
    "print(confusion_matrix(prom_df['isAnomaly'], pred_labels))"
   ]
  },
  {
   "cell_type": "code",
   "execution_count": 7,
   "metadata": {},
   "outputs": [
    {
     "data": {
      "text/plain": [
       "['lof_model.joblib']"
      ]
     },
     "execution_count": 7,
     "metadata": {},
     "output_type": "execute_result"
    }
   ],
   "source": [
    "import joblib\n",
    "model_filename = 'lof_model.joblib'\n",
    "joblib.dump(lof, model_filename)"
   ]
  }
 ],
 "metadata": {
  "kernelspec": {
   "display_name": "Python 3 (ipykernel)",
   "language": "python",
   "name": "python3"
  }
 },
 "nbformat": 4,
 "nbformat_minor": 2
}
