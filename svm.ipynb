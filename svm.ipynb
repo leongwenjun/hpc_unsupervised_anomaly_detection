{
 "cells": [
  {
   "cell_type": "code",
   "execution_count": 1,
   "metadata": {},
   "outputs": [],
   "source": [
    "from sklearn import svm\n",
    "import pandas as pd\n",
    "import numpy as np"
   ]
  },
  {
   "cell_type": "code",
   "execution_count": 2,
   "metadata": {},
   "outputs": [],
   "source": [
    "prom_file_path = \"prom_pure_label.parquet\""
   ]
  },
  {
   "cell_type": "code",
   "execution_count": 3,
   "metadata": {},
   "outputs": [],
   "source": [
    "prom_df = pd.read_parquet(prom_file_path)"
   ]
  },
  {
   "cell_type": "code",
   "execution_count": 5,
   "metadata": {},
   "outputs": [],
   "source": [
    "prom_df.fillna(0, inplace=True)\n",
    "feature_cols = [col for col in prom_df.columns if col not in ['node', 'timestamp', 'isAnomaly','node_netstat_Udp_InErrors','node_netstat_Tcp_InErrs','node_netstat_Icmp_InErrors','node_filesystem_device_error-sum','jobID']]\n",
    "one_class_svm = svm.OneClassSVM(kernel='rbf', nu=0.03, gamma='auto')\n",
    "\n",
    "one_class_svm.fit(prom_df[feature_cols])\n",
    "\n",
    "pred_svm = one_class_svm.predict(prom_df[feature_cols])\n",
    "\n",
    "pred_labels_svm = [1 if i == -1 else 0 for i in pred_svm]\n",
    "\n",
    "print(classification_report(prom_df['isAnomaly'], pred_labels_svm))\n",
    "print(confusion_matrix(prom_df['isAnomaly'], pred_labels_svm))"
   ]
  },
  {
   "cell_type": "code",
   "execution_count": null,
   "metadata": {},
   "outputs": [
    {
     "data": {
      "text/plain": [
       "['iforest_slurm_model.joblib']"
      ]
     },
     "execution_count": 8,
     "metadata": {},
     "output_type": "execute_result"
    }
   ],
   "source": [
    "import joblib\n",
    "model_filename = 'svm_model.joblib'\n",
    "joblib.dump(one_class_svm, model_filename)"
   ]
  }
 ],
 "metadata": {
  "kernelspec": {
   "display_name": "Python 3 (ipykernel)",
   "language": "python",
   "name": "python3"
  }
 },
 "nbformat": 4,
 "nbformat_minor": 2
}
