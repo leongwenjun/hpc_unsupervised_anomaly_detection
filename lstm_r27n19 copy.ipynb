{
 "cells": [
  {
   "cell_type": "code",
   "execution_count": 1,
   "metadata": {},
   "outputs": [
    {
     "name": "stderr",
     "output_type": "stream",
     "text": [
      "2023-08-09 17:05:46.803769: I tensorflow/core/util/port.cc:110] oneDNN custom operations are on. You may see slightly different numerical results due to floating-point round-off errors from different computation orders. To turn them off, set the environment variable `TF_ENABLE_ONEDNN_OPTS=0`.\n",
      "2023-08-09 17:05:46.806046: I tensorflow/tsl/cuda/cudart_stub.cc:28] Could not find cuda drivers on your machine, GPU will not be used.\n",
      "2023-08-09 17:05:46.851642: I tensorflow/tsl/cuda/cudart_stub.cc:28] Could not find cuda drivers on your machine, GPU will not be used.\n",
      "2023-08-09 17:05:46.852516: I tensorflow/core/platform/cpu_feature_guard.cc:182] This TensorFlow binary is optimized to use available CPU instructions in performance-critical operations.\n",
      "To enable the following instructions: AVX2 AVX512F AVX512_VNNI FMA, in other operations, rebuild TensorFlow with the appropriate compiler flags.\n",
      "2023-08-09 17:05:47.528250: W tensorflow/compiler/tf2tensorrt/utils/py_utils.cc:38] TF-TRT Warning: Could not find TensorRT\n"
     ]
    }
   ],
   "source": [
    "import pandas as pd\n",
    "import numpy as np\n",
    "from keras.models import Sequential\n",
    "from keras.layers import LSTM, RepeatVector, TimeDistributed, Dense\n",
    "from keras.optimizers import Adam\n",
    "from sklearn.preprocessing import StandardScaler, MinMaxScaler\n",
    "from sklearn.metrics import confusion_matrix, classification_report\n",
    "from keras.callbacks import EarlyStopping\n",
    "from sklearn.model_selection import train_test_split"
   ]
  },
  {
   "cell_type": "code",
   "execution_count": 2,
   "metadata": {},
   "outputs": [],
   "source": [
    "prom_file_path = \"../r11n14_tb_integrated.parquet\""
   ]
  },
  {
   "cell_type": "code",
   "execution_count": 3,
   "metadata": {},
   "outputs": [],
   "source": [
    "prom_df = pd.read_parquet(prom_file_path)"
   ]
  },
  {
   "cell_type": "code",
   "execution_count": 10,
   "metadata": {},
   "outputs": [],
   "source": [
    "prom_df = prom_df.drop(['node', 'timestamp'], axis=1)"
   ]
  },
  {
   "cell_type": "code",
   "execution_count": 8,
   "metadata": {},
   "outputs": [],
   "source": [
    "prom_df['successRate'] = prom_df['finishTasks'] / prom_df['jobCount']\n",
    "prom_df.fillna(0, inplace=True)"
   ]
  },
  {
   "cell_type": "code",
   "execution_count": 11,
   "metadata": {},
   "outputs": [],
   "source": [
    "scaler = MinMaxScaler()\n",
    "prom_df = pd.DataFrame(scaler.fit_transform(prom_df), columns=prom_df.columns)\n",
    "\n",
    "labels = prom_df['isAnomaly']\n",
    "prom_df = prom_df.drop('isAnomaly', axis=1)\n",
    "\n",
    "timesteps = 10\n",
    "n_features = prom_df.shape[1]\n",
    "\n",
    "sequences = np.array([prom_df[i: i + timesteps].values for i in range(len(prom_df) - timesteps)])\n",
    "labels = labels[timesteps:]\n",
    "\n",
    "model = Sequential()\n",
    "model.add(LSTM(100, activation='relu', input_shape=(timesteps, n_features), return_sequences=True))\n",
    "model.add(LSTM(50, activation='relu', return_sequences=False))\n",
    "model.add(RepeatVector(timesteps))\n",
    "model.add(LSTM(50, activation='relu', return_sequences=True))\n",
    "model.add(LSTM(100, activation='relu', return_sequences=True))\n",
    "model.add(TimeDistributed(Dense(n_features)))\n",
    "\n",
    "model.compile(optimizer=Adam(), loss='mse')\n"
   ]
  },
  {
   "cell_type": "code",
   "execution_count": 12,
   "metadata": {},
   "outputs": [
    {
     "name": "stdout",
     "output_type": "stream",
     "text": [
      "Epoch 1/25\n"
     ]
    },
    {
     "name": "stdout",
     "output_type": "stream",
     "text": [
      "184/184 [==============================] - 17s 78ms/step - loss: 0.0426 - val_loss: 0.0073\n",
      "Epoch 2/25\n",
      "184/184 [==============================] - 14s 75ms/step - loss: 0.0061 - val_loss: 0.0051\n",
      "Epoch 3/25\n",
      "184/184 [==============================] - 14s 74ms/step - loss: 0.0048 - val_loss: 0.0041\n",
      "Epoch 4/25\n",
      "184/184 [==============================] - 14s 74ms/step - loss: 0.0039 - val_loss: 0.0036\n",
      "Epoch 5/25\n",
      "184/184 [==============================] - 14s 74ms/step - loss: 0.0035 - val_loss: 0.0033\n",
      "Epoch 6/25\n",
      "184/184 [==============================] - 13s 73ms/step - loss: 0.0031 - val_loss: 0.0029\n",
      "Epoch 7/25\n",
      "184/184 [==============================] - 14s 74ms/step - loss: 0.0028 - val_loss: 0.0027\n",
      "Epoch 8/25\n",
      "184/184 [==============================] - 13s 72ms/step - loss: 0.0025 - val_loss: 0.0023\n",
      "Epoch 9/25\n",
      "184/184 [==============================] - 14s 74ms/step - loss: 0.0023 - val_loss: 0.0023\n",
      "Epoch 10/25\n",
      "184/184 [==============================] - 13s 72ms/step - loss: 0.0022 - val_loss: 0.0020\n",
      "Epoch 11/25\n",
      "184/184 [==============================] - 13s 73ms/step - loss: 0.0021 - val_loss: 0.0021\n",
      "Epoch 12/25\n",
      "184/184 [==============================] - 13s 72ms/step - loss: 0.0022 - val_loss: 0.0020\n",
      "Epoch 13/25\n",
      "184/184 [==============================] - 13s 72ms/step - loss: 0.0020 - val_loss: 0.0019\n",
      "Epoch 14/25\n",
      "184/184 [==============================] - 13s 71ms/step - loss: 0.0018 - val_loss: 0.0017\n",
      "Epoch 15/25\n",
      "184/184 [==============================] - 13s 72ms/step - loss: 0.0017 - val_loss: 0.0015\n",
      "Epoch 16/25\n",
      "184/184 [==============================] - 13s 72ms/step - loss: 0.0016 - val_loss: 0.0017\n",
      "Epoch 17/25\n",
      "184/184 [==============================] - 13s 72ms/step - loss: 0.0015 - val_loss: 0.0016\n",
      "Epoch 18/25\n",
      "184/184 [==============================] - 13s 73ms/step - loss: 0.0014 - val_loss: 0.0015\n",
      "Epoch 19/25\n",
      "184/184 [==============================] - 14s 74ms/step - loss: 0.0014 - val_loss: 0.0015\n",
      "Epoch 20/25\n",
      "184/184 [==============================] - 14s 74ms/step - loss: 0.0013 - val_loss: 0.0015\n",
      "Epoch 21/25\n",
      "184/184 [==============================] - 14s 74ms/step - loss: 0.0013 - val_loss: 0.0015\n",
      "Epoch 22/25\n",
      "184/184 [==============================] - 14s 74ms/step - loss: 0.0012 - val_loss: 0.0014\n",
      "Epoch 23/25\n",
      "184/184 [==============================] - 14s 74ms/step - loss: 0.0011 - val_loss: 0.0012\n",
      "Epoch 24/25\n",
      "184/184 [==============================] - 14s 74ms/step - loss: 0.0011 - val_loss: 0.0013\n",
      "Epoch 25/25\n",
      "184/184 [==============================] - 14s 74ms/step - loss: 0.0011 - val_loss: 0.0012\n"
     ]
    }
   ],
   "source": [
    "es = EarlyStopping(monitor='val_loss', mode='min', verbose=1, patience=5)\n",
    "\n",
    "history = model.fit(sequences, sequences, epochs=25, batch_size=128, verbose=1, validation_split=0.2, callbacks=[es])"
   ]
  },
  {
   "cell_type": "code",
   "execution_count": 14,
   "metadata": {},
   "outputs": [
    {
     "name": "stdout",
     "output_type": "stream",
     "text": [
      "921/921 [==============================] - 14s 14ms/step\n"
     ]
    }
   ],
   "source": [
    "pred = model.predict(sequences)\n",
    "\n",
    "mse = np.mean(np.power(sequences - pred, 2), axis=(1, 2))\n",
    "threshold = np.percentile(mse, 67)  \n",
    "\n",
    "pred_labels = [1 if e > threshold else 0 for e in mse]"
   ]
  },
  {
   "cell_type": "code",
   "execution_count": 15,
   "metadata": {},
   "outputs": [
    {
     "name": "stdout",
     "output_type": "stream",
     "text": [
      "              precision    recall  f1-score   support\n",
      "\n",
      "         0.0       0.76      0.76      0.76     19615\n",
      "         1.0       0.51      0.51      0.51      9826\n",
      "\n",
      "    accuracy                           0.68     29441\n",
      "   macro avg       0.63      0.63      0.63     29441\n",
      "weighted avg       0.67      0.68      0.68     29441\n",
      "\n",
      "[[14898  4717]\n",
      " [ 4827  4999]]\n"
     ]
    }
   ],
   "source": [
    "print(classification_report(labels, pred_labels))\n",
    "print(confusion_matrix(labels, pred_labels))"
   ]
  },
  {
   "cell_type": "code",
   "execution_count": 16,
   "metadata": {},
   "outputs": [
    {
     "name": "stdout",
     "output_type": "stream",
     "text": [
      "              precision    recall  f1-score   support\n",
      "\n",
      "         0.0       0.76      0.76      0.76     19615\n",
      "         1.0       0.51      0.51      0.51      9826\n",
      "\n",
      "    accuracy                           0.68     29441\n",
      "   macro avg       0.63      0.63      0.63     29441\n",
      "weighted avg       0.67      0.68      0.68     29441\n",
      "\n",
      "Confusion matrix:\n",
      " [[14898  4717]\n",
      " [ 4827  4999]]\n",
      "ROC AUC Score: 0.6341365323802141\n"
     ]
    },
    {
     "data": {
      "image/png": "[encoded data removed]",
      "text/plain": [
       "<Figure size 640x480 with 1 Axes>"
      ]
     },
     "metadata": {},
     "output_type": "display_data"
    }
   ],
   "source": [
    "from sklearn.metrics import classification_report, confusion_matrix, roc_auc_score, roc_curve\n",
    "import matplotlib.pyplot as plt\n",
    "import numpy as np\n",
    "print(classification_report(labels, pred_labels))\n",
    "\n",
    "conf_mat = confusion_matrix(labels, pred_labels)\n",
    "print('Confusion matrix:\\n', conf_mat)\n",
    "\n",
    "roc_auc = roc_auc_score(labels, pred_labels)\n",
    "print('ROC AUC Score:', roc_auc)\n",
    "\n",
    "fpr, tpr, _ = roc_curve(labels, pred_labels)\n",
    "plt.figure()\n",
    "plt.plot(fpr, tpr, label='ROC curve (area = %0.2f)' % roc_auc)\n",
    "plt.plot([0, 1], [0, 1], color='navy', linestyle='--')\n",
    "plt.xlim([0.0, 1.0])\n",
    "plt.ylim([0.0, 1.05])\n",
    "plt.xlabel('False Positive Rate')\n",
    "plt.ylabel('True Positive Rate')\n",
    "plt.title('Receiver Operating Characteristic for Autoencoder')\n",
    "plt.legend(loc=\"lower right\")\n",
    "\n",
    "plt.savefig('lstmautoencoder_roc_curve_r11n14_integrated.pdf', format='pdf')\n",
    "\n",
    "plt.show()"
   ]
  },
  {
   "cell_type": "code",
   "execution_count": 8,
   "metadata": {},
   "outputs": [
    {
     "name": "stdout",
     "output_type": "stream",
     "text": [
      "              precision    recall  f1-score   support\n",
      "\n",
      "         0.0       0.96      0.96      0.96     24550\n",
      "         1.0       0.93      0.92      0.92     12286\n",
      "\n",
      "    accuracy                           0.95     36836\n",
      "   macro avg       0.94      0.94      0.94     36836\n",
      "weighted avg       0.95      0.95      0.95     36836\n",
      "\n",
      "[[23658   892]\n",
      " [ 1022 11264]]\n"
     ]
    }
   ],
   "source": [
    "print(classification_report(labels, pred_labels))\n",
    "print(confusion_matrix(labels, pred_labels))"
   ]
  }
 ],
 "metadata": {
  "kernelspec": {
   "display_name": "Python 3 (ipykernel)",
   "language": "python",
   "name": "python3"
  }
 },
 "nbformat": 4,
 "nbformat_minor": 2
}
